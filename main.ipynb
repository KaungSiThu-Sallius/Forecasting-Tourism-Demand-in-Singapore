{
 "cells": [
  {
   "cell_type": "markdown",
   "metadata": {},
   "source": [
    "# Forecasting Tourism Demand in Singapore"
   ]
  },
  {
   "cell_type": "markdown",
   "metadata": {},
   "source": [
    "## Importing Libraries"
   ]
  },
  {
   "cell_type": "code",
   "execution_count": 1,
   "metadata": {},
   "outputs": [],
   "source": [
    "import pandas as pd\n",
    "import numpy as np\n",
    "import matplotlib.pyplot as plt"
   ]
  },
  {
   "cell_type": "markdown",
   "metadata": {},
   "source": [
    "## Data Collection and Preprocessing"
   ]
  },
  {
   "cell_type": "markdown",
   "metadata": {},
   "source": [
    "### Importing Dataset"
   ]
  },
  {
   "cell_type": "code",
   "execution_count": 40,
   "metadata": {},
   "outputs": [],
   "source": [
    "inter_arr = 'data/raw/international_visitor_arrivals.csv'\n",
    "inter_arr_stay_days = 'data/raw/international_visitor_arrivals_stay_days.csv'\n",
    "inter_arr_age = 'data/raw/international_visitor_arrivals_age.csv'\n",
    "hotel_stats = 'data/raw/hotel_statistics.csv'\n",
    "weather = 'data/raw/weather.csv'\n",
    "purpose_visit = 'data/raw/purpose_of_visit.xlsx'\n",
    "spent = 'data/raw/money_spent.xlsx'\n",
    "holiday_14_22 = 'data/raw/holidays_2014_2022.csv'\n",
    "holiday_23 = 'data/raw/holidays_2023.csv'\n",
    "holiday_24 = 'data/raw/holidays_2024.csv'\n",
    "\n",
    "inter_arrival_df = pd.read_csv(inter_arr)\n",
    "inter_arrival_stay_days_df = pd.read_csv(inter_arr_stay_days)\n",
    "inter_arrival_age_df = pd.read_csv(inter_arr_age)\n",
    "hotel_stats_df = pd.read_csv(hotel_stats)\n",
    "weather_df = pd.read_csv(weather)\n",
    "purpose_visit_df = pd.read_excel(purpose_visit)\n",
    "spent_df = pd.read_excel(spent)\n",
    "holiday_14_22_df = pd.read_csv(holiday_14_22)\n",
    "holiday_23_df = pd.read_csv(holiday_23)\n",
    "holiday_24_df = pd.read_csv(holiday_24)"
   ]
  },
  {
   "cell_type": "markdown",
   "metadata": {},
   "source": [
    "### Converting long to wide format and Cleaning"
   ]
  },
  {
   "cell_type": "code",
   "execution_count": 54,
   "metadata": {},
   "outputs": [],
   "source": [
    "# Long to Wide convertor function\n",
    "def wide2Long(_df, value_name, series_name):\n",
    "    df = _df.melt(id_vars='DataSeries', var_name='date', value_name=value_name)\n",
    "    df['date'] = pd.to_datetime(df['date'], format=\"%Y%b\")\n",
    "    df.set_index('date', inplace=True)\n",
    "    df.rename(columns={\n",
    "        'DataSeries': series_name\n",
    "    } ,inplace=True)\n",
    "    df = df.loc['2015-01-01':]\n",
    "    return df\n",
    "\n",
    "def wide2Long_2(_df, value_name, series_name):\n",
    "    df = _df.melt(id_vars='DataSeries', var_name='date', value_name=value_name)\n",
    "    df['date'] = pd.to_datetime(df['date'], format=\"%Y\").dt.year\n",
    "    df.set_index('date', inplace=True)\n",
    "    df.rename(columns={\n",
    "        'DataSeries': series_name\n",
    "    } ,inplace=True)\n",
    "    df = df.loc['2010':]\n",
    "    df.index = df.index.sort_values(ascending=False)\n",
    "    return df"
   ]
  },
  {
   "cell_type": "code",
   "execution_count": 42,
   "metadata": {},
   "outputs": [],
   "source": [
    "# International Visitor Arrival\n",
    "inter_arrival_df = wide2Long(inter_arrival_df, 'visitor_arrivals', 'region')\n",
    "inter_arrival_df['region'] = inter_arrival_df['region'].str.replace('Total International Visitor Arrivals By Inbound Tourism Markets', 'Total')\n",
    "\n",
    "# International Visitor Arrival Stay Days\n",
    "inter_arrival_stay_days_df = wide2Long(inter_arrival_stay_days_df, 'visitor_arrivals', 'stay_days')\n",
    "inter_arrival_stay_days_df['stay_days'] = inter_arrival_stay_days_df['stay_days'].str.replace('Total International Visitor Arrivals', 'Total')\n",
    "\n",
    "# International Visitor Arrival Age\n",
    "inter_arrival_age_df = wide2Long(inter_arrival_age_df, 'visitor_arrivals', 'age')\n",
    "\n",
    "# International Visitor Arrival Gender\n",
    "inter_arrival_gender_df = inter_arrival_age_df[inter_arrival_age_df['age'].isin(['Males','Females'])]\n",
    "inter_arrival_age_df = inter_arrival_age_df[~inter_arrival_age_df['age'].isin(['Males','Females'])]\n",
    "\n",
    "# Hotel Statistics\n",
    "hotel_stats_df = wide2Long(hotel_stats_df, 'hotels_data', 'hotels_info')\n",
    "\n",
    "# Weather\n",
    "weather_df = wide2Long(weather_df, 'weather_data', 'weather_info')\n",
    "\n",
    "# Purpose of Visit\n",
    "purpose_visit_df = wide2Long_2(purpose_visit_df, 'count', 'purpose')\n",
    "\n",
    "# Travel Spent\n",
    "spent_df = wide2Long_2(spent_df, 'dollar(millions)', 'travel')\n",
    "spent_df = spent_df.drop(columns=['travel'])\n",
    "\n",
    "# Holidays\n",
    "holiday_14_22_df['date'] = pd.to_datetime(holiday_14_22_df['date'], format='%Y-%m-%d')\n",
    "holiday_23_df['date'] = pd.to_datetime(holiday_23_df['date'], format='%Y-%m-%d')\n",
    "holiday_24_df['date'] = pd.to_datetime(holiday_24_df['date'], format='%Y-%m-%d')\n",
    "holidays = pd.concat([holiday_14_22_df, holiday_23_df, holiday_24_df])\n",
    "holidays = holidays.reset_index(drop=True)\n"
   ]
  },
  {
   "cell_type": "markdown",
   "metadata": {},
   "source": [
    "### Converting Data Types"
   ]
  },
  {
   "cell_type": "code",
   "execution_count": 60,
   "metadata": {},
   "outputs": [
    {
     "name": "stdout",
     "output_type": "stream",
     "text": [
      "<class 'pandas.core.frame.DataFrame'>\n",
      "DatetimeIndex: 2618 entries, 2024-11-01 to 2015-01-01\n",
      "Data columns (total 2 columns):\n",
      " #   Column            Non-Null Count  Dtype \n",
      "---  ------            --------------  ----- \n",
      " 0   region            2618 non-null   object\n",
      " 1   visitor_arrivals  2618 non-null   int64 \n",
      "dtypes: int64(1), object(1)\n",
      "memory usage: 61.4+ KB\n",
      "<class 'pandas.core.frame.DataFrame'>\n",
      "DatetimeIndex: 1904 entries, 2024-11-01 to 2015-01-01\n",
      "Data columns (total 2 columns):\n",
      " #   Column            Non-Null Count  Dtype  \n",
      "---  ------            --------------  -----  \n",
      " 0   stay_days         1904 non-null   object \n",
      " 1   visitor_arrivals  1904 non-null   float64\n",
      "dtypes: float64(1), object(1)\n",
      "memory usage: 44.6+ KB\n"
     ]
    }
   ],
   "source": [
    "inter_arrival_stay_days_df.info()"
   ]
  }
 ],
 "metadata": {
  "kernelspec": {
   "display_name": "dev_env",
   "language": "python",
   "name": "python3"
  },
  "language_info": {
   "codemirror_mode": {
    "name": "ipython",
    "version": 3
   },
   "file_extension": ".py",
   "mimetype": "text/x-python",
   "name": "python",
   "nbconvert_exporter": "python",
   "pygments_lexer": "ipython3",
   "version": "3.9.21"
  }
 },
 "nbformat": 4,
 "nbformat_minor": 2
}
