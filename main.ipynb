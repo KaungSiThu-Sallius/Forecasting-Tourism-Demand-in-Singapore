{
 "cells": [
  {
   "cell_type": "markdown",
   "metadata": {},
   "source": [
    "# Forecasting Tourism Demand in Singapore"
   ]
  },
  {
   "cell_type": "markdown",
   "metadata": {},
   "source": [
    "## Importing Libraries"
   ]
  },
  {
   "cell_type": "code",
   "execution_count": 1,
   "metadata": {},
   "outputs": [],
   "source": [
    "import pandas as pd\n",
    "import numpy as np\n",
    "import matplotlib.pyplot as plt"
   ]
  },
  {
   "cell_type": "markdown",
   "metadata": {},
   "source": [
    "## Data Collection and Preprocessing"
   ]
  },
  {
   "cell_type": "markdown",
   "metadata": {},
   "source": [
    "### Importing Dataset"
   ]
  },
  {
   "cell_type": "code",
   "execution_count": 9,
   "metadata": {},
   "outputs": [],
   "source": [
    "inter_arr = 'data/raw/international_visitor_arrivals.csv'\n",
    "inter_arr_stay_days = 'data/raw/international_visitor_arrivals_stay_days.csv'\n",
    "inter_arr_age = 'data/raw/international_visitor_arrivals_age.csv'\n",
    "hotel_stats = 'data/raw/hotel_statistics.csv'\n",
    "weather = 'data/raw/weather.csv'\n",
    "purpose_visit = 'data/raw/purpose_of_visit.xlsx'\n",
    "spent = 'data/raw/money_spent.xlsx'\n",
    "holiday_14_22 = 'data/raw/holidays_2014_2022.csv'\n",
    "holiday_23 = 'data/raw/holidays_2023.csv'\n",
    "holiday_24 = 'data/raw/holidays_2024.csv'\n",
    "\n",
    "inter_arrival_df = pd.read_csv(inter_arr)\n",
    "inter_arrival_stay_days_df = pd.read_csv(inter_arr_stay_days)\n",
    "inter_arrival_age_df = pd.read_csv(inter_arr_age)\n",
    "hotel_stats_df = pd.read_csv(hotel_stats)\n",
    "weather_df = pd.read_csv(weather)\n",
    "purpose_visit_df = pd.read_excel(purpose_visit)\n",
    "spent_df = pd.read_excel(spent)\n",
    "holiday_14_22_df = pd.read_csv(holiday_14_22)\n",
    "holiday_23_df = pd.read_csv(holiday_23)\n",
    "holiday_24_df = pd.read_csv(holiday_24)"
   ]
  },
  {
   "cell_type": "markdown",
   "metadata": {},
   "source": [
    "### Converting long to wide format and Cleaning"
   ]
  },
  {
   "cell_type": "code",
   "execution_count": 3,
   "metadata": {},
   "outputs": [],
   "source": [
    "# International Visitor Arrival\n",
    "inter_arrival_df = inter_arrival_df.melt(id_vars='DataSeries', var_name='date', value_name='visitor_arrivals')\n",
    "inter_arrival_df['date'] = pd.to_datetime(inter_arrival_df['date'], format=\"%Y%b\")\n",
    "inter_arrival_df.set_index('date', inplace=True)\n",
    "inter_arrival_df.rename(columns={\n",
    "    'DataSeries': 'region'\n",
    "} ,inplace=True)\n",
    "inter_arrival_df = inter_arrival_df.loc['2015-01-01':]\n",
    "inter_arrival_df['region'] = inter_arrival_df['region'].str.replace('Total International Visitor Arrivals By Inbound Tourism Markets', 'Total')"
   ]
  },
  {
   "cell_type": "code",
   "execution_count": 4,
   "metadata": {},
   "outputs": [],
   "source": [
    "# International Visitor Arrival Stay Days\n",
    "inter_arrival_stay_days_df = inter_arrival_stay_days_df.melt(id_vars='DataSeries', var_name='date', value_name='visitor_arrivals')\n",
    "inter_arrival_stay_days_df['date'] = pd.to_datetime(inter_arrival_stay_days_df['date'], format=\"%Y%b\")\n",
    "inter_arrival_stay_days_df.set_index('date', inplace=True)\n",
    "inter_arrival_stay_days_df.rename(columns={\n",
    "    'DataSeries': 'stay_days'\n",
    "} ,inplace=True)\n",
    "inter_arrival_stay_days_df = inter_arrival_stay_days_df.loc['2015-01-01':]\n",
    "inter_arrival_stay_days_df['stay_days'] = inter_arrival_stay_days_df['stay_days'].str.replace('Total International Visitor Arrivals', 'Total')"
   ]
  },
  {
   "cell_type": "code",
   "execution_count": 5,
   "metadata": {},
   "outputs": [],
   "source": [
    "# International Visitor Arrival Age\n",
    "inter_arrival_age_df = inter_arrival_age_df.melt(id_vars='DataSeries', var_name='date', value_name='visitor_arrivals')\n",
    "inter_arrival_age_df['date'] = pd.to_datetime(inter_arrival_age_df['date'], format=\"%Y%b\")\n",
    "inter_arrival_age_df.set_index('date', inplace=True)\n",
    "inter_arrival_age_df.rename(columns={\n",
    "    'DataSeries': 'age'\n",
    "} ,inplace=True)\n",
    "inter_arrival_age_df = inter_arrival_age_df.loc['2015-01-01':]"
   ]
  },
  {
   "cell_type": "code",
   "execution_count": 6,
   "metadata": {},
   "outputs": [],
   "source": [
    "# International Visitor Arrival Gender\n",
    "inter_arrival_gender_df = inter_arrival_age_df[inter_arrival_age_df['age'].isin(['Males','Females'])]\n",
    "inter_arrival_age_df = inter_arrival_age_df[~inter_arrival_age_df['age'].isin(['Males','Females'])]"
   ]
  },
  {
   "cell_type": "code",
   "execution_count": 7,
   "metadata": {},
   "outputs": [],
   "source": [
    "# Hotel Statistics\n",
    "hotel_stats_df = hotel_stats_df.melt(id_vars='DataSeries', var_name='date', value_name='statistics')\n",
    "hotel_stats_df['date'] = pd.to_datetime(hotel_stats_df['date'], format=\"%Y%b\")\n",
    "hotel_stats_df.set_index('date', inplace=True)\n",
    "hotel_stats_df.rename(columns={\n",
    "    'DataSeries': 'hotels_data'\n",
    "} ,inplace=True)\n",
    "hotel_stats_df = hotel_stats_df.loc['2015-01-01':]"
   ]
  },
  {
   "cell_type": "code",
   "execution_count": 8,
   "metadata": {},
   "outputs": [],
   "source": [
    "# Weather\n",
    "weather_df = weather_df.melt(id_vars='DataSeries', var_name='date', value_name='weather_data')\n",
    "weather_df['date'] = pd.to_datetime(weather_df['date'], format=\"%Y%b\")\n",
    "weather_df.set_index('date', inplace=True)\n",
    "weather_df.rename(columns={\n",
    "    'DataSeries': 'weather_info'\n",
    "} ,inplace=True)\n",
    "weather_df = weather_df.loc['2015-01-01':]"
   ]
  },
  {
   "cell_type": "code",
   "execution_count": 9,
   "metadata": {},
   "outputs": [],
   "source": [
    "# Purpose of Visit\n",
    "purpose_visit_df = purpose_visit_df.melt(id_vars='DataSeries', var_name='date', value_name='count')\n",
    "purpose_visit_df['date'] = pd.to_datetime(purpose_visit_df['date'], format=\"%Y\").dt.year\n",
    "purpose_visit_df.set_index('date', inplace=True)\n",
    "purpose_visit_df.rename(columns={\n",
    "    'DataSeries': 'purpose'\n",
    "} ,inplace=True)\n",
    "purpose_visit_df = purpose_visit_df.loc['2010':]\n",
    "purpose_visit_df.index = purpose_visit_df.index.sort_values(ascending=False)"
   ]
  },
  {
   "cell_type": "code",
   "execution_count": 10,
   "metadata": {},
   "outputs": [],
   "source": [
    "# Purpose of Visit\n",
    "spent_df = spent_df.melt(id_vars='DataSeries', var_name='date', value_name='dollar(millions)')\n",
    "spent_df['date'] = pd.to_datetime(spent_df['date'], format=\"%Y\").dt.year\n",
    "spent_df.set_index('date', inplace=True)\n",
    "spent_df.rename(columns={\n",
    "    'DataSeries': 'travel'\n",
    "} ,inplace=True)\n",
    "spent_df = spent_df.loc['2010':]\n",
    "spent_df.index = spent_df.index.sort_values(ascending=False)\n",
    "spent_df = spent_df.drop(columns=['travel'])"
   ]
  },
  {
   "cell_type": "code",
   "execution_count": 15,
   "metadata": {},
   "outputs": [],
   "source": [
    "# Holidays\n",
    "holiday_14_22_df['date'] = pd.to_datetime(holiday_14_22_df['date'], format='%Y-%m-%d')\n",
    "holiday_23_df['date'] = pd.to_datetime(holiday_23_df['date'], format='%Y-%m-%d')\n",
    "holiday_24_df['date'] = pd.to_datetime(holiday_24_df['date'], format='%Y-%m-%d')\n",
    "holidays = pd.concat([holiday_14_22_df, holiday_23_df, holiday_24_df])\n",
    "holidays = holidays.reset_index(drop=True)"
   ]
  },
  {
   "cell_type": "markdown",
   "metadata": {},
   "source": [
    "### Dropping unnecessary columns"
   ]
  },
  {
   "cell_type": "code",
   "execution_count": 147,
   "metadata": {},
   "outputs": [],
   "source": [
    "unemploy_sex_age_edu_df = unemploy_sex_age_edu_df.drop(['source.label', 'indicator.label', 'obs_status.label', 'note_classif.label', 'note_indicator.label', 'note_source.label'], axis=1)\n",
    "unemploy_sex_age_marital_df = unemploy_sex_age_marital_df.drop(['source.label', 'indicator.label', 'obs_status.label', 'note_classif.label', 'note_indicator.label', 'note_source.label'], axis=1)\n",
    "unemploy_sex_age_region_df = unemploy_sex_age_region_df.drop(['source.label', 'indicator.label', 'obs_status.label', 'note_classif.label', 'note_indicator.label', 'note_source.label'], axis=1)"
   ]
  },
  {
   "cell_type": "code",
   "execution_count": 155,
   "metadata": {},
   "outputs": [],
   "source": [
    "countries = ['India', 'Pakistan']\n",
    "population_df = population_df[population_df['Country Name'].isin(countries)]\n",
    "years = [str(year) for year in range(2015,2024)]\n",
    "population_df = population_df.loc[:,['Country Name']+years]\n",
    "\n",
    "inflation_df = inflation_df[inflation_df['Country Name'].isin(countries)]\n",
    "years = [str(year) for year in range(2015,2024)]\n",
    "inflation_df = inflation_df.loc[:,['Country Name']+years]\n",
    "\n",
    "gdp_df = gdp_df[gdp_df['Country Name'].isin(countries)]\n",
    "years = [str(year) for year in range(2015,2024)]\n",
    "gdp_df = gdp_df.loc[:,['Country Name']+years]"
   ]
  },
  {
   "cell_type": "markdown",
   "metadata": {},
   "source": [
    "### Renaming Columns"
   ]
  },
  {
   "cell_type": "code",
   "execution_count": 156,
   "metadata": {},
   "outputs": [],
   "source": [
    "unemploy_sex_age_edu_df.rename(columns={\n",
    "    'ref_area.label': 'country',\n",
    "    'sex.label': 'gender',\n",
    "    'classif1.label': 'age_bracket',\n",
    "    'classif2.label': 'education',\n",
    "    'obs_value': 'value'\n",
    "}, inplace=True)\n",
    "\n",
    "unemploy_sex_age_marital_df.rename(\n",
    "    columns={\n",
    "        'ref_area.label': 'country',\n",
    "        'sex.label': 'gender',\n",
    "        'classif1.label': 'age_bracket',\n",
    "        'classif2.label': 'marital_status',\n",
    "        'obs_value': 'value'\n",
    "    }, inplace=True\n",
    ")\n",
    "\n",
    "unemploy_sex_age_region_df.rename(\n",
    "    columns={\n",
    "        'ref_area.label': 'country',\n",
    "        'sex.label': 'gender',\n",
    "        'classif1.label': 'age_bracket',\n",
    "        'classif2.label': 'region',\n",
    "        'obs_value': 'value'\n",
    "    }, inplace=True\n",
    ")\n",
    "\n",
    "population_df.rename(columns={'Country Name':'country'}, inplace=True)\n",
    "inflation_df.rename(columns={'Country Name':'country'}, inplace=True)\n",
    "gdp_df.rename(columns={'Country Name':'country'}, inplace=True)"
   ]
  },
  {
   "cell_type": "markdown",
   "metadata": {},
   "source": [
    "### Handling rows and null values"
   ]
  },
  {
   "cell_type": "markdown",
   "metadata": {},
   "source": [
    "#### Unemployment (Gender, Age, Education) Dataset"
   ]
  },
  {
   "cell_type": "code",
   "execution_count": 150,
   "metadata": {},
   "outputs": [],
   "source": [
    "unemploy_sex_age_edu_df['gender'] = unemploy_sex_age_edu_df['gender'].str.replace('Sex: ','')\n",
    "unemploy_sex_age_marital_df['gender'] = unemploy_sex_age_marital_df['gender'].str.replace('Sex: ', '')\n",
    "unemploy_sex_age_region_df['gender'] = unemploy_sex_age_region_df['gender'].str.replace('Sex: ', '')\n",
    "\n",
    "unemploy_sex_age_edu_df['age_bracket'] = unemploy_sex_age_edu_df['age_bracket'].str.replace('Age (Aggregate bands): ','')\n",
    "unemploy_sex_age_marital_df['age_bracket'] = unemploy_sex_age_marital_df['age_bracket'].str.replace('Age (Aggregate bands): ','')\n",
    "unemploy_sex_age_region_df['age_bracket'] = unemploy_sex_age_region_df['age_bracket'].str.replace('Age (Aggregate bands): ','')\n",
    "\n",
    "unemploy_sex_age_edu_df['education'] = unemploy_sex_age_edu_df['education'].str.replace('Education (Aggregate levels): ','')\n",
    "\n",
    "unemploy_sex_age_marital_df['marital_status'] = unemploy_sex_age_marital_df['marital_status'].str.replace('Marital status (Detailed): ',  '')\n",
    "\n",
    "unemploy_sex_age_region_df['region'] = unemploy_sex_age_region_df['region'].str.replace('Area type: ',  '')"
   ]
  },
  {
   "cell_type": "code",
   "execution_count": 151,
   "metadata": {},
   "outputs": [],
   "source": [
    "education_to_replace = {\n",
    "    'Less than basic': 'Below High School',\n",
    "    'Basic': 'High School', \n",
    "    'Intermediate': 'Bachelor\\'s',\n",
    "    'Advanced': 'Master\\'s or Higher',\n",
    "    'Level not stated': 'Not Stated'\n",
    "}\n",
    "\n",
    "unemploy_sex_age_edu_df['education'] = unemploy_sex_age_edu_df['education'].replace(education_to_replace)"
   ]
  },
  {
   "cell_type": "markdown",
   "metadata": {},
   "source": [
    "##### Null Values Handle"
   ]
  },
  {
   "cell_type": "code",
   "execution_count": 152,
   "metadata": {},
   "outputs": [],
   "source": [
    "unemploy_sex_age_edu_df['value'] = unemploy_sex_age_edu_df.groupby(['age_bracket', 'education'])['value'].transform(lambda x: x.fillna(x.mean()))\n",
    "unemploy_sex_age_edu_df_value_global_mean = unemploy_sex_age_edu_df['value'].mean()\n",
    "unemploy_sex_age_edu_df['value'] = unemploy_sex_age_edu_df['value'].fillna(unemploy_sex_age_edu_df_value_global_mean)\n",
    "unemploy_sex_age_edu_df['value'] = round(unemploy_sex_age_edu_df['value'])\n",
    "\n",
    "unemploy_sex_age_marital_df['value'] = unemploy_sex_age_marital_df.groupby(['age_bracket', 'marital_status'])['value'].transform(lambda x: x.fillna(x.mean()))\n",
    "unemploy_sex_age_marital_df_value_global_mean = unemploy_sex_age_marital_df['value'].mean()\n",
    "unemploy_sex_age_marital_df['value'] = unemploy_sex_age_marital_df['value'].fillna(unemploy_sex_age_marital_df_value_global_mean)\n",
    "unemploy_sex_age_marital_df['value'] = round(unemploy_sex_age_marital_df['value'])\n",
    "\n",
    "unemploy_sex_age_region_df['value'] = unemploy_sex_age_marital_df.groupby(['age_bracket', 'marital_status'])['value'].transform(lambda x: x.fillna(x.mean()))\n",
    "unemploy_sex_age_region_df_value_global_mean = unemploy_sex_age_region_df['value'].mean()\n",
    "unemploy_sex_age_region_df['value'] = unemploy_sex_age_region_df['value'].fillna(unemploy_sex_age_region_df_value_global_mean)\n",
    "unemploy_sex_age_region_df['value'] = round(unemploy_sex_age_region_df['value'])"
   ]
  },
  {
   "cell_type": "markdown",
   "metadata": {},
   "source": [
    "##### Convert Data Types"
   ]
  },
  {
   "cell_type": "code",
   "execution_count": 153,
   "metadata": {},
   "outputs": [],
   "source": [
    "unemploy_sex_age_edu_df['value'] = unemploy_sex_age_edu_df['value'].astype('int')\n",
    "unemploy_sex_age_edu_df['gender'] = unemploy_sex_age_edu_df['gender'].astype('category')\n",
    "unemploy_sex_age_edu_df['age_bracket'] = unemploy_sex_age_edu_df['age_bracket'].astype('category')\n",
    "unemploy_sex_age_edu_df['education'] = unemploy_sex_age_edu_df['education'].astype('category')\n",
    "unemploy_sex_age_edu_df['time'] =  pd.PeriodIndex(unemploy_sex_age_edu_df['time'], freq='Q')\n",
    "\n",
    "unemploy_sex_age_marital_df['value'] = unemploy_sex_age_marital_df['value'].astype('int')\n",
    "unemploy_sex_age_marital_df['gender'] = unemploy_sex_age_marital_df['gender'].astype('category')\n",
    "unemploy_sex_age_marital_df['age_bracket'] = unemploy_sex_age_marital_df['age_bracket'].astype('category')\n",
    "unemploy_sex_age_marital_df['marital_status'] = unemploy_sex_age_marital_df['marital_status'].astype('category')\n",
    "unemploy_sex_age_marital_df['time'] =  pd.PeriodIndex(unemploy_sex_age_marital_df['time'], freq='Q')\n",
    "\n",
    "unemploy_sex_age_region_df['value'] = unemploy_sex_age_region_df['value'].astype('int')\n",
    "unemploy_sex_age_region_df['gender'] = unemploy_sex_age_region_df['gender'].astype('category')\n",
    "unemploy_sex_age_region_df['age_bracket'] = unemploy_sex_age_region_df['age_bracket'].astype('category')\n",
    "unemploy_sex_age_region_df['region'] = unemploy_sex_age_region_df['region'].astype('category')\n",
    "unemploy_sex_age_region_df['time'] =  pd.PeriodIndex(unemploy_sex_age_region_df['time'], freq='Q')"
   ]
  }
 ],
 "metadata": {
  "kernelspec": {
   "display_name": "dev_env",
   "language": "python",
   "name": "python3"
  },
  "language_info": {
   "codemirror_mode": {
    "name": "ipython",
    "version": 3
   },
   "file_extension": ".py",
   "mimetype": "text/x-python",
   "name": "python",
   "nbconvert_exporter": "python",
   "pygments_lexer": "ipython3",
   "version": "3.9.21"
  }
 },
 "nbformat": 4,
 "nbformat_minor": 2
}
